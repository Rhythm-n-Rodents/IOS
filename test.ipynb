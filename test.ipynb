{
 "cells": [
  {
   "cell_type": "code",
   "execution_count": 4,
   "metadata": {},
   "outputs": [],
   "source": [
    "import nidaqmx\n",
    "from nidaqmx.constants import LineGrouping,AcquisitionType,SampleTimingType\n",
    "import time\n",
    "import numpy as np\n"
   ]
  },
  {
   "cell_type": "code",
   "execution_count": 7,
   "metadata": {},
   "outputs": [
    {
     "data": {
      "text/plain": [
       "(3, 10000)"
      ]
     },
     "execution_count": 7,
     "metadata": {},
     "output_type": "execute_result"
    }
   ],
   "source": [
    "duration = 5\n",
    "sample_rate = 2000\n",
    "length = duration*sample_rate\n",
    "n_channels = 3\n",
    "pause_per_channel = 0.2\n",
    "timing = 1/sample_rate\n",
    "data = np.zeros([n_channels,length])==1\n",
    "sample_pause_per_channel = np.floor(pause_per_channel/timing)\n",
    "channeli = 0\n",
    "for i in range(length):\n",
    "    data[channeli%n_channels,i] = True\n",
    "    if i%sample_pause_per_channel>=sample_pause_per_channel-1:\n",
    "        channeli = channeli+1\n",
    "data.shape"
   ]
  },
  {
   "cell_type": "code",
   "execution_count": 9,
   "metadata": {},
   "outputs": [],
   "source": [
    "task = nidaqmx.Task()\n",
    "task.do_channels.add_do_chan(f\"Dev1/port0/line0:{n_channels-1}\", line_grouping=LineGrouping.CHAN_PER_LINE)\n",
    "for i in range(data.shape[1]):\n",
    "    state = [bool(i) for i in data[:,i]]\n",
    "    task.write(state,auto_start=True)\n",
    "    time.sleep(timing)\n",
    "task.write([False,False,False],auto_start=True)\n",
    "task.close()\n"
   ]
  },
  {
   "cell_type": "code",
   "execution_count": null,
   "metadata": {},
   "outputs": [],
   "source": []
  }
 ],
 "metadata": {
  "kernelspec": {
   "display_name": "ni",
   "language": "python",
   "name": "python3"
  },
  "language_info": {
   "codemirror_mode": {
    "name": "ipython",
    "version": 3
   },
   "file_extension": ".py",
   "mimetype": "text/x-python",
   "name": "python",
   "nbconvert_exporter": "python",
   "pygments_lexer": "ipython3",
   "version": "3.11.0"
  },
  "orig_nbformat": 4,
  "vscode": {
   "interpreter": {
    "hash": "c230b5b689d5d4f578fdc647db90cc7cd41b53966d5ddfd5f642a063e72e9148"
   }
  }
 },
 "nbformat": 4,
 "nbformat_minor": 2
}
